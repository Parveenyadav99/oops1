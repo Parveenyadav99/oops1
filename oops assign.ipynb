{
 "cells": [
  {
   "cell_type": "code",
   "execution_count": 2,
   "id": "60fd3b5b",
   "metadata": {},
   "outputs": [
    {
     "data": {
      "text/plain": [
       "\"In Python, the built-in open function is used to open a file. The different modes of opening a file are as follows:\\n\\n'r' (Read Only): This is the default mode. It opens a file for reading, and the file pointer is placed at the beginning of the file. If the file does not exist, an error is raised.\\n\\n'w' (Write Only): This mode opens a file for writing. If the file exists, its contents are overwritten. If the file does not exist, a new file is created.\\n\\n'a' (Append Only): This mode opens a file for writing, but the file pointer is placed at the end of the file. If the file exists, new data is appended to the end of the file. If the file does not exist, a new file is created.\\n\\n'x' (Write and Create Only): This mode opens a file for writing. If the file exists, an error is raised. If the file does not exist, a new file is created.\\n\\n'b' (Binary): This mode is used to open a binary file, such as an image or a executable file.\\n\\n't' (Text): This mode is used to open a text file. This is the default mode, so it is optional.\""
      ]
     },
     "execution_count": 2,
     "metadata": {},
     "output_type": "execute_result"
    }
   ],
   "source": [
    "# Q1. Which function is used to open a file? What are the different modes of opening a file? Explain each modeof file opening.\n",
    "# ans\n",
    "\n",
    "'''In Python, the built-in open function is used to open a file. The different modes of opening a file are as follows:\n",
    "\n",
    "'r' (Read Only): This is the default mode. It opens a file for reading, and the file pointer is placed at the beginning of the file. If the file does not exist, an error is raised.\n",
    "\n",
    "'w' (Write Only): This mode opens a file for writing. If the file exists, its contents are overwritten. If the file does not exist, a new file is created.\n",
    "\n",
    "'a' (Append Only): This mode opens a file for writing, but the file pointer is placed at the end of the file. If the file exists, new data is appended to the end of the file. If the file does not exist, a new file is created.\n",
    "\n",
    "'x' (Write and Create Only): This mode opens a file for writing. If the file exists, an error is raised. If the file does not exist, a new file is created.\n",
    "\n",
    "'b' (Binary): This mode is used to open a binary file, such as an image or a executable file.\n",
    "\n",
    "'t' (Text): This mode is used to open a text file. This is the default mode, so it is optional.'''"
   ]
  },
  {
   "cell_type": "code",
   "execution_count": 3,
   "id": "0400a0b5",
   "metadata": {},
   "outputs": [],
   "source": [
    "file = open(\"filename.txt\", \"w\")\n"
   ]
  },
  {
   "cell_type": "code",
   "execution_count": 4,
   "id": "6ad7b48b",
   "metadata": {},
   "outputs": [
    {
     "data": {
      "text/plain": [
       "\"The close() function is used to close an open file. Once you have finished working with a file, it is important to close it to free up the resources that were being used by the file. If you don't close a file, the operating system may not release the resources being used by the file, which can lead to issues such as running out of file handles or running out of memory.\\n\\nWhen you close a file, the file pointer is no longer valid, and you can no longer read from or write to the file. You also release any locks that may have been placed on the file by the operating system, allowing other processes to access the file if they need to.\\n\\nIn Python, it is a good practice to use the with statement when working with files. This ensures that the file is closed automatically when you are done with it, even if an exception is raised. For example:\""
      ]
     },
     "execution_count": 4,
     "metadata": {},
     "output_type": "execute_result"
    }
   ],
   "source": [
    "# Q2. Why close() function is used? Why is it important to close a file?\n",
    "# ans \n",
    "\n",
    "'''The close() function is used to close an open file. Once you have finished working with a file, it is important to close it to free up the resources that were being used by the file. If you don't close a file, the operating system may not release the resources being used by the file, which can lead to issues such as running out of file handles or running out of memory.\n",
    "\n",
    "When you close a file, the file pointer is no longer valid, and you can no longer read from or write to the file. You also release any locks that may have been placed on the file by the operating system, allowing other processes to access the file if they need to.\n",
    "\n",
    "In Python, it is a good practice to use the with statement when working with files. This ensures that the file is closed automatically when you are done with it, even if an exception is raised. For example:'''"
   ]
  },
  {
   "cell_type": "code",
   "execution_count": 7,
   "id": "f91688d8",
   "metadata": {},
   "outputs": [],
   "source": [
    "with open(\"filename.txt\", \"r\") as file:\n",
    "    data = file.read()\n",
    "    # work with the file\n"
   ]
  },
  {
   "cell_type": "code",
   "execution_count": 9,
   "id": "c3e41662",
   "metadata": {},
   "outputs": [
    {
     "name": "stdout",
     "output_type": "stream",
     "text": [
      "I want to become a Data Scientist\n"
     ]
    }
   ],
   "source": [
    "# Q3. Write a python program to create a text file. Write ‘I want to become a Data Scientist’ in that file. Then\n",
    " # close the file. Open this file and read the content of the file.\n",
    "    # Open a file for writing and create it if it doesn't exist\n",
    "file = open(\"textfile.txt\", \"w+\")\n",
    "\n",
    "file.write(\"I want to become a Data Scientist\")\n",
    "\n",
    "file.close()\n",
    "\n",
    "file = open(\"textfile.txt\", \"r\")\n",
    "\n",
    "\n",
    "contents = file.read()\n",
    "\n",
    "\n",
    "print(contents)\n",
    "\n",
    "\n",
    "file.close()\n"
   ]
  },
  {
   "cell_type": "code",
   "execution_count": 10,
   "id": "4074f328",
   "metadata": {},
   "outputs": [
    {
     "name": "stdout",
     "output_type": "stream",
     "text": [
      "I want to become a Data Scientist\n"
     ]
    }
   ],
   "source": [
    "# Q4. Explain the following with python code: read(), readline() and readlines().\n",
    "# In Python, you can use the open() function to open a file and work with its contents. Once you have an open file object, you can use the following methods to read its contents:\n",
    "\n",
    "#       read(): This method reads the entire contents of the file and returns it as a single string.\n",
    "file = open(\"textfile.txt\", \"r\")\n",
    "contents = file.read()\n",
    "print(contents)\n",
    "file.close()\n"
   ]
  },
  {
   "cell_type": "code",
   "execution_count": 11,
   "id": "243e1b02",
   "metadata": {},
   "outputs": [
    {
     "name": "stdout",
     "output_type": "stream",
     "text": [
      "I want to become a Data Scientist\n"
     ]
    }
   ],
   "source": [
    "# readline(): This method reads a single line from the file and returns it as a string. Each time you call readline(), it returns the next line in the file.\n",
    "\n",
    "file = open(\"textfile.txt\", \"r\")\n",
    "line = file.readline()\n",
    "while line:\n",
    "    print(line)\n",
    "    line = file.readline()\n",
    "file.close()\n"
   ]
  },
  {
   "cell_type": "code",
   "execution_count": 20,
   "id": "d93f8ba0",
   "metadata": {},
   "outputs": [
    {
     "name": "stdout",
     "output_type": "stream",
     "text": [
      "I want to become a Data Scientist\n"
     ]
    }
   ],
   "source": [
    "# readlines(): This method reads the entire contents of the file and returns a list of strings, where each string is a line from the file.\n",
    "file = open(\"textfile.txt\", \"r\")\n",
    "lines = file.readlines()\n",
    "for line in lines:\n",
    "    print(line)\n",
    "file.close()\n",
    "\n"
   ]
  },
  {
   "cell_type": "code",
   "execution_count": 21,
   "id": "6bf6f868",
   "metadata": {},
   "outputs": [
    {
     "data": {
      "text/plain": [
       "'The with statement is often used in conjunction with the open() function when working with files in Python. The advantage of using with in this way is that it provides a convenient way to manage resources, such as files, in a way that is both safe and readable.\\n\\nThe with statement creates a context in which a specific action is performed. In this case, the with statement is used to open a file, perform some action on the file, and then close the file automatically when the action is complete. This eliminates the need to explicitly close the file, which can help to avoid resource leaks and other related issues.\\n\\nOne of the key advantages of using the with statement in this way is that it helps to ensure that files are properly closed, even if an exception is raised during the processing of the file. This is because the with statement automatically closes the file when the block of code within the with statement is exited, whether that is due to normal completion or because of an exception.\\n\\nAdditionally, the use of the with statement can help to make your code more readable, as it makes the intent of the code clearer and eliminates the need for explicit file close calls. This can help to make your code easier to maintain and debug.\\n\\nOverall, the with statement and open() function provide a convenient and safe way to work with files in Python, helping to ensure that resources are properly managed and that your code is both readable and maintainable.'"
      ]
     },
     "execution_count": 21,
     "metadata": {},
     "output_type": "execute_result"
    }
   ],
   "source": [
    "# Q5. Explain why with statement is used with open(). What is the advantage of using with statement and open() together?\n",
    "# ans \n",
    "'''The with statement is often used in conjunction with the open() function when working with files in Python. The advantage of using with in this way is that it provides a convenient way to manage resources, such as files, in a way that is both safe and readable.\n",
    "\n",
    "The with statement creates a context in which a specific action is performed. In this case, the with statement is used to open a file, perform some action on the file, and then close the file automatically when the action is complete. This eliminates the need to explicitly close the file, which can help to avoid resource leaks and other related issues.\n",
    "\n",
    "One of the key advantages of using the with statement in this way is that it helps to ensure that files are properly closed, even if an exception is raised during the processing of the file. This is because the with statement automatically closes the file when the block of code within the with statement is exited, whether that is due to normal completion or because of an exception.\n",
    "\n",
    "Additionally, the use of the with statement can help to make your code more readable, as it makes the intent of the code clearer and eliminates the need for explicit file close calls. This can help to make your code easier to maintain and debug.\n",
    "\n",
    "Overall, the with statement and open() function provide a convenient and safe way to work with files in Python, helping to ensure that resources are properly managed and that your code is both readable and maintainable.'''"
   ]
  },
  {
   "cell_type": "code",
   "execution_count": 23,
   "id": "14417fe0",
   "metadata": {},
   "outputs": [],
   "source": [
    "# Q6. Explain the write() and writelines() functions. Give a suitable example.\n",
    "# ans\n",
    "'''The write() and writelines() functions are used in Python to write data to a file.\n",
    "\n",
    "The write() function is used to write a single string to a file. The string is specified as an argument to the write() function and is written to the file at the current position of the file pointer. Here's an example:'''\n",
    "\n",
    "with open(\"test.txt\", \"w\") as file:\n",
    "    file.write(\"Hello, World!\")\n"
   ]
  },
  {
   "cell_type": "code",
   "execution_count": 24,
   "id": "d275a8eb",
   "metadata": {},
   "outputs": [],
   "source": [
    "with open(\"test.txt\", \"w\") as file:\n",
    "    file.write(\"Hello, World!\")\n"
   ]
  },
  {
   "cell_type": "code",
   "execution_count": 25,
   "id": "6f09d155",
   "metadata": {},
   "outputs": [
    {
     "data": {
      "text/plain": [
       "'The write() and writelines() functions are used in Python to write data to a file.\\n\\nThe write() function is used to write a single string to a file. The string is specified as an argument to the write() function and is written to the file at the current position of the file pointer. Here\\'s an example:pythonCopy code\\nwith open(\"test.txt\", \"w\") as file:\\n    file.write(\"Hello, World!\")\\nThe writelines() function is used to write a sequence of strings to a file. The sequence is specified as a list of strings and is written to the file at the current position of the file pointer. The difference between writelines() and write() is that writelines() writes the strings to the file as separate lines, whereas write() writes the string to the file as a single line. Here\\'s an example:'"
      ]
     },
     "execution_count": 25,
     "metadata": {},
     "output_type": "execute_result"
    }
   ],
   "source": [
    "'''The write() and writelines() functions are used in Python to write data to a file.\n",
    "\n",
    "The write() function is used to write a single string to a file. The string is specified as an argument to the write() function and is written to the file at the current position of the file pointer. Here's an example:pythonCopy code\n",
    "with open(\"test.txt\", \"w\") as file:\n",
    "    file.write(\"Hello, World!\")\n",
    "The writelines() function is used to write a sequence of strings to a file. The sequence is specified as a list of strings and is written to the file at the current position of the file pointer. The difference between writelines() and write() is that writelines() writes the strings to the file as separate lines, whereas write() writes the string to the file as a single line. Here's an example:'''"
   ]
  },
  {
   "cell_type": "code",
   "execution_count": 26,
   "id": "985739df",
   "metadata": {},
   "outputs": [],
   "source": [
    "with open(\"test.txt\", \"w\") as file:\n",
    "    lines = [\"Line 1\", \"Line 2\", \"Line 3\"]\n",
    "    file.writelines(lines)\n"
   ]
  },
  {
   "cell_type": "code",
   "execution_count": null,
   "id": "4052420d",
   "metadata": {},
   "outputs": [],
   "source": []
  }
 ],
 "metadata": {
  "kernelspec": {
   "display_name": "Python 3 (ipykernel)",
   "language": "python",
   "name": "python3"
  },
  "language_info": {
   "codemirror_mode": {
    "name": "ipython",
    "version": 3
   },
   "file_extension": ".py",
   "mimetype": "text/x-python",
   "name": "python",
   "nbconvert_exporter": "python",
   "pygments_lexer": "ipython3",
   "version": "3.9.7"
  }
 },
 "nbformat": 4,
 "nbformat_minor": 5
}
